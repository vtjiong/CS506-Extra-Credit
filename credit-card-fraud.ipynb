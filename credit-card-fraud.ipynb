{
 "cells": [
  {
   "cell_type": "markdown",
   "id": "c7664616-bcb4-4ceb-b40b-966b57371e6d",
   "metadata": {},
   "source": [
    "# Libraries"
   ]
  },
  {
   "cell_type": "code",
   "execution_count": 1,
   "id": "c2132580-2593-46f3-bfcb-6bc3f625ca9a",
   "metadata": {},
   "outputs": [],
   "source": [
    "import pandas as pd\n",
    "import seaborn as sns\n",
    "import matplotlib.pyplot as plt\n",
    "import numpy as np\n",
    "from sklearn.model_selection import train_test_split\n",
    "from sklearn.metrics import accuracy_score, confusion_matrix\n",
    "from sklearn.preprocessing import LabelEncoder, OneHotEncoder\n",
    "from sklearn.metrics import f1_score"
   ]
  },
  {
   "cell_type": "markdown",
   "id": "3d331f7a-ef0e-49c9-a343-f137c49e9b4a",
   "metadata": {},
   "source": [
    "# Loading the File"
   ]
  },
  {
   "cell_type": "code",
   "execution_count": 3,
   "id": "70507d4a-8975-49a4-98af-9635569d680d",
   "metadata": {},
   "outputs": [
    {
     "name": "stdout",
     "output_type": "stream",
     "text": [
      "train.csv shape is  (370703, 24)\n",
      "test.csv shape is  (92676, 23)\n",
      "\n",
      "        id                         trans_num  trans_date trans_time  \\\n",
      "0   308467  26ad750c2ff71f32631b58913582d70a  2024-01-10   06:49:39   \n",
      "1   261578  fea9c1efe3f2b97f27ad0ab5409ec861  2024-01-06   02:37:50   \n",
      "2      341  2ae350b982be840f3666273e0c2f3a05  2024-01-18   21:40:21   \n",
      "3  1147639  bbdd8adfc0a34ed0e817f809193c85c0  2024-01-21   16:20:15   \n",
      "4   314152  fc7756004dc2a9bc450eb894a670b804  2024-01-21   19:36:26   \n",
      "\n",
      "    unix_time        category     amt            cc_num    first     last  \\\n",
      "0  1704887379        misc_pos  188.38      676355457570   Andrea  Johnson   \n",
      "1  1704526670     grocery_pos  102.63   377178373574671   Rhonda   Chavez   \n",
      "2  1705632021   entertainment    1.62  3599292013370451  Stephen     Khan   \n",
      "3  1705872015  health_fitness    5.64  3594292572430345   Justin   Reilly   \n",
      "4  1705883786  health_fitness   97.09  4867547663675548    Alice   Duarte   \n",
      "\n",
      "   ...    zip      lat      long city_pop                          job  \\\n",
      "0  ...  62220  38.5127  -89.9847    95666        Accounting technician   \n",
      "1  ...  21784  39.4567  -76.9696    37941            Designer, graphic   \n",
      "2  ...  49735  45.0125  -84.6723    19515  Careers information officer   \n",
      "3  ...  44256  41.1404  -81.8584    62039         Merchandiser, retail   \n",
      "4  ...  91501  34.1862 -118.3009   106841               Prison officer   \n",
      "\n",
      "          dob                          merchant  merch_lat  merch_long  \\\n",
      "0  1983-05-26          fraud_Turcotte-Halvorson  39.268874  -89.273447   \n",
      "1  1976-12-03         fraud_Schamberger-O'Keefe  39.961495  -76.707640   \n",
      "2  1999-08-24  fraud_Nicolas, Hills and McGlynn  44.393561  -85.342323   \n",
      "3  1930-02-24                 fraud_Cormier LLC  40.283764  -81.639361   \n",
      "4  1951-10-15                 fraud_Kulas Group  35.149704 -118.087440   \n",
      "\n",
      "  is_fraud  \n",
      "0        0  \n",
      "1        0  \n",
      "2        0  \n",
      "3        0  \n",
      "4        0  \n",
      "\n",
      "[5 rows x 24 columns]\n",
      "\n",
      "       id                         trans_num  trans_date trans_time  \\\n",
      "0   52329  2e6b34f2047158280fd5b50cb5249fcc  2024-01-27   13:17:44   \n",
      "1   92215  5e4c36e1e6f1838f0afe1ed83d42d48e  2024-01-31   21:12:51   \n",
      "2  107070  de58b3413be0b956c261b8e756006b5d  2024-01-24   23:06:59   \n",
      "3  117508  63e5e8954b6954121fb9395b8fb87ec3  2024-01-15   14:42:37   \n",
      "4  525132  f0acdc291ca35b61a873060e419b20a5  2024-01-30   22:02:41   \n",
      "\n",
      "    unix_time       category     amt            cc_num    first     last  ...  \\\n",
      "0  1706379464      kids_pets   13.00    30184874050384   Edward  Mueller  ...   \n",
      "1  1706753571         travel   25.64  3560293989785735     Ryan   Reeves  ...   \n",
      "2  1706155619           home   99.48   213175392060268  Gregory   Graham  ...   \n",
      "3  1705347757    grocery_pos  972.26  2720994415033785  Jessica    Carey  ...   \n",
      "4  1706670161  personal_care  165.04      639070744995    Corey   Rogers  ...   \n",
      "\n",
      "  state    zip      lat      long  city_pop  \\\n",
      "0    NY  11230  40.6225  -73.9650   2504700   \n",
      "1    CA  92504  33.9315 -117.4119    419138   \n",
      "2    KY  42629  36.9680  -85.0968      4953   \n",
      "3    TX  75571  33.1808  -94.7639      2846   \n",
      "4    NJ   7022  40.8170  -74.0000     13835   \n",
      "\n",
      "                                    job         dob  \\\n",
      "0                Leisure centre manager  1955-12-17   \n",
      "1                             Mudlogger  1940-06-22   \n",
      "2                  Engineer, automotive  1993-03-18   \n",
      "3       Geophysicist/field seismologist  1958-06-30   \n",
      "4  Accountant, chartered public finance  1972-04-13   \n",
      "\n",
      "                             merchant  merch_lat  merch_long  \n",
      "0     fraud_Lowe, Dietrich and Erdman  40.707029  -74.027386  \n",
      "1               fraud_Johnston-Casper  34.344545 -117.348319  \n",
      "2  fraud_Gutmann, McLaughlin and Wiza  37.493843  -85.224136  \n",
      "3   fraud_Schoen, Kuphal and Nitzsche  32.238558  -94.085343  \n",
      "4                fraud_Sporer-Keebler  40.957527  -73.328707  \n",
      "\n",
      "[5 rows x 23 columns]\n"
     ]
    }
   ],
   "source": [
    "trainingSet = pd.read_csv('./train.csv')\n",
    "testingSet = pd.read_csv('./test.csv')\n",
    "\n",
    "print(\"train.csv shape is \", trainingSet.shape)\n",
    "print(\"test.csv shape is \", testingSet.shape)\n",
    "\n",
    "print()\n",
    "\n",
    "print(trainingSet.head())\n",
    "print()\n",
    "print(testingSet.head())"
   ]
  },
  {
   "cell_type": "markdown",
   "id": "e4129ea0-61bf-4701-8d91-ca6395c264e2",
   "metadata": {},
   "source": [
    "# Adding Features"
   ]
  },
  {
   "cell_type": "code",
   "execution_count": 279,
   "id": "998f5d3d-92a0-46cd-9d93-cd03d06fd109",
   "metadata": {},
   "outputs": [
    {
     "name": "stderr",
     "output_type": "stream",
     "text": [
      "/var/folders/td/3s3bcbys3qs05zfg3_jzxfhc0000gn/T/ipykernel_3543/1561578115.py:19: UserWarning: Could not infer format, so each element will be parsed individually, falling back to `dateutil`. To ensure parsing is consistent and as-expected, please specify a format.\n",
      "  df['trans_hour'] = pd.to_datetime(df['trans_time']).dt.hour\n",
      "/var/folders/td/3s3bcbys3qs05zfg3_jzxfhc0000gn/T/ipykernel_3543/1561578115.py:19: UserWarning: Could not infer format, so each element will be parsed individually, falling back to `dateutil`. To ensure parsing is consistent and as-expected, please specify a format.\n",
      "  df['trans_hour'] = pd.to_datetime(df['trans_time']).dt.hour\n"
     ]
    }
   ],
   "source": [
    "def add_features_to(df):\n",
    "   label_encoder = LabelEncoder()\n",
    "   df['category_encoded'] = label_encoder.fit_transform(df['category'])\n",
    "   df['job_encoded']=label_encoder.fit_transform(df['job'])\n",
    "   df['merchant_encoded']= label_encoder.fit_transform(df['merchant'])\n",
    "   df['trans_num_encoded']= label_encoder.fit_transform(df['trans_num'])\n",
    "   df['gender_encoded']= label_encoder.fit_transform(df['gender'])\n",
    "   df['state_encoded']=label_encoder.fit_transform(df['state'])\n",
    "   # Convert `dob` and `trans_date` to datetime\n",
    "   df['dob'] = pd.to_datetime(df['dob'])\n",
    "   df['trans_date'] = pd.to_datetime(df['trans_date'])\n",
    "   # Calculate age\n",
    "   df['age'] = df['trans_date'].dt.year - df['dob'].dt.year\n",
    "   average_city_pop=df['city_pop'].mean()\n",
    "   df['deviation_city_pop']=df['city_pop']-average_city_pop\n",
    "   # Extract day, month, and hour from trans_date and trans_time\n",
    "   df['trans_day'] = pd.to_datetime(df['trans_date']).dt.day\n",
    "   df['trans_month'] = pd.to_datetime(df['trans_date']).dt.month\n",
    "   df['trans_hour'] = pd.to_datetime(df['trans_time']).dt.hour\n",
    "   # Flag unusual transaction times\n",
    "   df['is_night'] = df['trans_hour'].apply(lambda x: 1 if x < 6 or x > 24 else 0)\n",
    "   # Assuming `trans_date` is a column in your DataFrame in a string format (e.g., '2024-01-10')\n",
    "    # Convert `trans_date` to a datetime object\n",
    "   df['trans_date'] = pd.to_datetime(df['trans_date'])\n",
    "    # Extract the day of the week (0 = Monday, 6 = Sunday)\n",
    "   df['day_of_week'] = df['trans_date'].dt.dayofweek\n",
    "    # Create `is_weekend` feature (1 for Saturday/Sunday, 0 otherwise)\n",
    "   df['is_weekend'] = df['day_of_week'].apply(lambda x: 1 if x >= 6 else 0)\n",
    "   threshold = df['amt'].quantile(0.96)\n",
    "   # Create a column to flag big transactions\n",
    "   df['is_big_transaction'] = df['amt'] > threshold\n",
    "\n",
    "    # Count the number of big transactions per customer (cc_num)\n",
    "   big_transaction_count = df.groupby('cc_num')['is_big_transaction'].sum()\n",
    "\n",
    "    # Count the total number of transactions per customer\n",
    "   total_transaction_count = df.groupby('cc_num')['cc_num'].count()\n",
    "\n",
    "    # Calculate the frequency of big transactions per customer\n",
    "   df['big_transaction_frequency'] = df['cc_num'].map(\n",
    "        big_transaction_count / total_transaction_count\n",
    "    )\n",
    "   threshold = df['amt'].quantile(0.05)\n",
    "   # Create a column to flag small transactions\n",
    "   df['is_small_transaction'] = df['amt'] < threshold\n",
    "    # Count the number of small transactions per customer\n",
    "   small_transaction_count = df.groupby('cc_num')['is_small_transaction'].sum()\n",
    "\n",
    "   # Calculate the frequency of small transactions per customer\n",
    "   total_transaction_count = df.groupby('cc_num')['cc_num'].count()  # Already defined above\n",
    "   df['small_transaction_frequency'] = df['cc_num'].map(\n",
    "   small_transaction_count / total_transaction_count\n",
    ") \n",
    "   df['is_urban']=df['city_pop']>50000\n",
    "   category_variation = df.groupby('cc_num')['category'].nunique().reset_index()\n",
    "   category_variation = category_variation.rename(columns={'category':'category_variation'})\n",
    "   df = df.merge(category_variation,on='cc_num',how='left')\n",
    "   return df\n",
    "\n",
    "# Process the DataFrame\n",
    "train = add_features_to(trainingSet)\n",
    "X_submission = add_features_to(testingSet)\n",
    "# The training set is where the score is not null\n",
    "X_train =  train[train['is_fraud'].notnull()]"
   ]
  },
  {
   "cell_type": "markdown",
   "id": "2b861830-e6ab-4857-8c9e-b5da2ee138b7",
   "metadata": {},
   "source": [
    "# Sample + Split into Training & Testing Set "
   ]
  },
  {
   "cell_type": "code",
   "execution_count": 264,
   "id": "e0c7c25b-b31a-44f7-b01f-eb347dd9607e",
   "metadata": {},
   "outputs": [],
   "source": [
    "# Split training set into training and testing set\n",
    "X_train, X_test, Y_train, Y_test = train_test_split(\n",
    "    X_train.drop(columns=['is_fraud']),\n",
    "    X_train['is_fraud'],\n",
    "    test_size=1/4.0,\n",
    "    random_state=0\n",
    ")"
   ]
  },
  {
   "cell_type": "markdown",
   "id": "f6913841-ab99-4b5a-a2cd-daaddd61422f",
   "metadata": {},
   "source": [
    "# Features Selection"
   ]
  },
  {
   "cell_type": "code",
   "execution_count": 271,
   "id": "19c0f79f-43c4-4e85-ab39-bcff5d348474",
   "metadata": {},
   "outputs": [],
   "source": [
    "features = ['amt','category_encoded','unix_time','age','gender_encoded','city_pop','deviation_city_pop',\n",
    "            'is_night','is_weekend', 'big_transaction_frequency','small_transaction_frequency',\n",
    "            'trans_day','trans_hour','is_urban']\n",
    "X_train_select = X_train[features]\n",
    "X_test_select = X_test[features]\n",
    "X_submission_select = X_submission[features]"
   ]
  },
  {
   "cell_type": "markdown",
   "id": "dd983419-7f05-4a11-9361-004608ea7914",
   "metadata": {},
   "source": [
    "# Model Creation"
   ]
  },
  {
   "cell_type": "code",
   "execution_count": 273,
   "id": "dcae20d5-1a10-42e6-987a-b26ea4396e1b",
   "metadata": {},
   "outputs": [
    {
     "name": "stdout",
     "output_type": "stream",
     "text": [
      "f1_score: 0.9785521518867478\n"
     ]
    }
   ],
   "source": [
    "from sklearn.ensemble import HistGradientBoostingClassifier \n",
    "best_hg_model = HistGradientBoostingClassifier(\n",
    "    max_iter=2000,\n",
    "    learning_rate=0.05,\n",
    "    max_leaf_nodes=120,\n",
    "    min_samples_leaf=40,\n",
    "    random_state=42\n",
    ")\n",
    "# Fitting the model\n",
    "\n",
    "best_hg_model.fit(X_train_select, Y_train)\n",
    "\n",
    "# Making predictions\n",
    "best_hg_preds = best_hg_model.predict(X_test_select)\n",
    "print(\"f1_score:\",f1_score(Y_test,best_hg_preds))"
   ]
  },
  {
   "cell_type": "markdown",
   "id": "9016845d-fba9-4b83-a0df-70d905454406",
   "metadata": {},
   "source": [
    "# Confusion Matrix"
   ]
  },
  {
   "cell_type": "code",
   "execution_count": 275,
   "id": "85366bb9-ddec-44bd-9181-d7d8a685e268",
   "metadata": {},
   "outputs": [
    {
     "data": {
      "image/png": "[encoded data removed]",
      "text/plain": [
       "<Figure size 800x600 with 2 Axes>"
      ]
     },
     "metadata": {},
     "output_type": "display_data"
    }
   ],
   "source": [
    "# Confusion Matrix\n",
    "cm = confusion_matrix(Y_test, best_hg_preds, normalize='true')\n",
    "plt.figure(figsize=(8, 6))\n",
    "sns.heatmap(cm, annot=True, cmap='Blues', fmt=\".2f\")\n",
    "plt.title('Confusion Matrix of the Classifier')\n",
    "plt.xlabel('Predicted')\n",
    "plt.ylabel('True')\n",
    "plt.show()"
   ]
  },
  {
   "cell_type": "markdown",
   "id": "e4896763-47ba-46d5-9949-55570ccac16d",
   "metadata": {},
   "source": [
    "# Saving The File"
   ]
  },
  {
   "cell_type": "code",
   "execution_count": 277,
   "id": "4a721974-ebe5-4c9b-b413-4e5794205f21",
   "metadata": {},
   "outputs": [
    {
     "name": "stdout",
     "output_type": "stream",
     "text": [
      "(92676, 2)\n"
     ]
    }
   ],
   "source": [
    "# Create the submission file\n",
    "X_submission['is_fraud'] = best_hg_model.predict(X_submission_select)\n",
    "submission = X_submission[['id', 'is_fraud']]\n",
    "print(submission.shape)\n",
    "submission.to_csv(\"./submission.csv\", index=False)"
   ]
  }
 ],
 "metadata": {
  "kernelspec": {
   "display_name": "Python 3 (ipykernel)",
   "language": "python",
   "name": "python3"
  },
  "language_info": {
   "codemirror_mode": {
    "name": "ipython",
    "version": 3
   },
   "file_extension": ".py",
   "mimetype": "text/x-python",
   "name": "python",
   "nbconvert_exporter": "python",
   "pygments_lexer": "ipython3",
   "version": "3.12.4"
  }
 },
 "nbformat": 4,
 "nbformat_minor": 5
}
